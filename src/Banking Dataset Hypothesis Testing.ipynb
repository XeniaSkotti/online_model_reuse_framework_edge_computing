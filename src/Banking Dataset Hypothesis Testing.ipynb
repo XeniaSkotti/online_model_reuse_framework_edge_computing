{
 "cells": [
  {
   "cell_type": "code",
   "execution_count": 1,
   "id": "88237834",
   "metadata": {},
   "outputs": [],
   "source": [
    "# do this if you use a custom virtual environment to specify the directory to look for installed packages\n",
    "import sys\n",
    "import os\n",
    "## goes back to the project directory\n",
    "os.chdir(\"..\")\n",
    "# switch to the name of your virtual environment\n",
    "kernel_name = \".venv_mp\"\n",
    "sys.path.append(\"\\\\\".join([os.getcwd(), kernel_name, \"Lib\\\\site-packages\"]))"
   ]
  },
  {
   "cell_type": "code",
   "execution_count": 2,
   "id": "6d9c8fce",
   "metadata": {},
   "outputs": [],
   "source": [
    "import pandas as pd\n",
    "import os\n",
    "from node import get_node_data\n",
    "directory = \"//\".join([os.getcwd(), \"data\", \"bank-marketing\", \"reduced\", \"raw_node_data.csv\"])\n",
    "raw_data = pd.read_csv(directory, header =0, index_col = 0)"
   ]
  },
  {
   "cell_type": "code",
   "execution_count": 3,
   "id": "706de7be",
   "metadata": {},
   "outputs": [],
   "source": [
    "from node import create_samples, save_samples\n",
    "n_samples = 100\n",
    "samples = create_samples(n_samples, raw_data)\n",
    "save_samples(samples, \"bank\")"
   ]
  },
  {
   "cell_type": "code",
   "execution_count": null,
   "id": "eca0c59d",
   "metadata": {},
   "outputs": [],
   "source": [
    "from sklearn.linear_model import LogisticRegression as LR\n",
    "def fit(df):\n",
    "    lr = LR().fit(df[[\"x\", \"y\", \"z\"]], df[\"label\"])\n",
    "    score = lr.score(df[[\"x\", \"y\", \"z\"]], df[\"label\"])\n",
    "    print(score)\n",
    "    return lr"
   ]
  },
  {
   "cell_type": "code",
   "execution_count": null,
   "id": "eab19f5f",
   "metadata": {},
   "outputs": [],
   "source": [
    "lr_models = {df.pi.values[0] : fit(df) for df in node_data} "
   ]
  }
 ],
 "metadata": {
  "kernelspec": {
   "display_name": ".venv_mp",
   "language": "python",
   "name": ".venv_mp"
  },
  "language_info": {
   "codemirror_mode": {
    "name": "ipython",
    "version": 3
   },
   "file_extension": ".py",
   "mimetype": "text/x-python",
   "name": "python",
   "nbconvert_exporter": "python",
   "pygments_lexer": "ipython3",
   "version": "3.8.8"
  }
 },
 "nbformat": 4,
 "nbformat_minor": 5
}
