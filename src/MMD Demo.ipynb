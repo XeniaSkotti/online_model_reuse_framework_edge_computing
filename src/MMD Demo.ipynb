{
 "cells": [
  {
   "cell_type": "code",
   "execution_count": 3,
   "metadata": {},
   "outputs": [],
   "source": [
    "# install pytorch \n",
    "# conda install -c pytorch pytorch"
   ]
  },
  {
   "cell_type": "code",
   "execution_count": 4,
   "metadata": {},
   "outputs": [],
   "source": [
    "import torch"
   ]
  },
  {
   "cell_type": "code",
   "execution_count": 5,
   "metadata": {},
   "outputs": [],
   "source": [
    "device = torch.device(\"cuda\" if torch.cuda.is_available() else \"cpu\")"
   ]
  },
  {
   "cell_type": "markdown",
   "metadata": {},
   "source": [
    "![title](mmd_math_equation.png)"
   ]
  },
  {
   "cell_type": "code",
   "execution_count": 45,
   "metadata": {},
   "outputs": [],
   "source": [
    "def MMD(x, y, kernel, a):\n",
    "    \"\"\"Emprical maximum mean discrepancy. The lower the result\n",
    "       the more evidence that distributions are the same.\n",
    "\n",
    "    Args:\n",
    "        x: first sample, distribution P\n",
    "        y: second sample, distribution Q\n",
    "        kernel: kernel type such as \"multiscale\" or \"rbf\"\n",
    "    \"\"\"\n",
    "    \n",
    "    ## torch.mm performs matrix multiplication\n",
    "    ## x.t() performs a transpose\n",
    "    ## xx.diag() contains the square of each row/point in x\n",
    "    xx, yy, xy = torch.mm(x, x.t()), torch.mm(y, y.t()), torch.mm(x, y.t())\n",
    "    \n",
    "    ## calculating the first summation of parts A and C\n",
    "    # unsqueze adds another dimension to the tensor (,n) to (1,n)\n",
    "    # expand_as duplicates the array to as many rows to match the array given \n",
    "    rx = (xx.diag().unsqueeze(0).expand_as(xx))\n",
    "    ry = (yy.diag().unsqueeze(0).expand_as(yy))\n",
    "    \n",
    "    # compute the distance matrix: (x - y)^2 = x^2 - 2*x*y + y^2\n",
    "    dxx = rx.t() - 2 * xx + rx # Used for A in (1)\n",
    "    dyy = ry.t() - 2 * yy + ry # Used for B in (1)\n",
    "    dxy = rx.t() - 2 * xy + ry # Used for C in (1)\n",
    "    \n",
    "#     XX, YY, XY = (torch.zeros(xx.shape).to(device),\n",
    "#                   torch.zeros(xx.shape).to(device),\n",
    "#                   torch.zeros(xx.shape).to(device))\n",
    "    \n",
    "    if kernel == \"multiscale\":\n",
    "#         bandwidth_range = [0.2, 0.5, 0.9, 1.3]\n",
    "#         for a in bandwidth_range:\n",
    "#             XX += a**2 * (a**2 + dxx)**-1\n",
    "#             YY += a**2 * (a**2 + dyy)**-1\n",
    "#             XY += a**2 * (a**2 + dxy)**-1\n",
    "        XX = a**2 * (a**2 + dxx)**-1\n",
    "        YY = a**2 * (a**2 + dyy)**-1\n",
    "        XY = a**2 * (a**2 + dxy)**-1\n",
    "            \n",
    "    if kernel == \"rbf\":\n",
    "#         bandwidth_range = [10, 15, 20, 50]\n",
    "#         for a in bandwidth_range:\n",
    "#             XX += torch.exp(-0.5*dxx/a)\n",
    "#             YY += torch.exp(-0.5*dyy/a)\n",
    "#             XY += torch.exp(-0.5*dxy/a)\n",
    "        XX = torch.exp(-0.5*dxx/a)\n",
    "        YY = torch.exp(-0.5*dyy/a)\n",
    "        XY = torch.exp(-0.5*dxy/a)\n",
    "\n",
    "    m = x.size()[0]\n",
    "    beta = 1/(m*(m-1))\n",
    "    gamma = 2/(m*m)\n",
    "    \n",
    "#     return torch.mean(XX - 2 * XY + YY)\n",
    "    return beta * (torch.sum(XX) + torch.sum(YY)) - gamma * torch.sum(XY)"
   ]
  },
  {
   "cell_type": "code",
   "execution_count": 50,
   "metadata": {},
   "outputs": [
    {
     "name": "stdout",
     "output_type": "stream",
     "text": [
      "MMD result of X and Y is 0.1570422649383545\n"
     ]
    }
   ],
   "source": [
    "%matplotlib inline\n",
    "\n",
    "import numpy as np\n",
    "import matplotlib.pyplot as plt\n",
    "from scipy.stats import multivariate_normal\n",
    "from scipy.stats import dirichlet \n",
    "from torch.distributions.multivariate_normal import MultivariateNormal \n",
    "\n",
    "\n",
    "m = 20 # sample size\n",
    "x_mean = torch.zeros(2)+1\n",
    "y_mean = torch.zeros(2)\n",
    "x_cov = 2*torch.eye(2) # IMPORTANT: Covariance matrices must be positive definite\n",
    "y_cov = 3*torch.eye(2) - 1\n",
    "\n",
    "px = MultivariateNormal(x_mean, x_cov)\n",
    "qy = MultivariateNormal(y_mean, y_cov)\n",
    "x = px.sample([m]).to(device)\n",
    "y = qy.sample([m]).to(device)\n",
    "\n",
    "result = MMD(x, y, kernel=\"multiscale\", a = 1.3)\n",
    "\n",
    "print(f\"MMD result of X and Y is {result.item()}\")"
   ]
  },
  {
   "cell_type": "code",
   "execution_count": 34,
   "metadata": {},
   "outputs": [],
   "source": [
    "## correct implementation for mmd found here:\n",
    "## https://discuss.pytorch.org/t/maximum-mean-discrepancy-mmd-and-radial-basis-function-rbf/1875/2"
   ]
  },
  {
   "cell_type": "code",
   "execution_count": 36,
   "metadata": {},
   "outputs": [
    {
     "data": {
      "text/plain": [
       "20"
      ]
     },
     "execution_count": 36,
     "metadata": {},
     "output_type": "execute_result"
    }
   ],
   "source": [
    "x.size()[0]"
   ]
  },
  {
   "cell_type": "code",
   "execution_count": 42,
   "metadata": {},
   "outputs": [
    {
     "ename": "NameError",
     "evalue": "name 'XX' is not defined",
     "output_type": "error",
     "traceback": [
      "\u001b[1;31m---------------------------------------------------------------------------\u001b[0m",
      "\u001b[1;31mNameError\u001b[0m                                 Traceback (most recent call last)",
      "\u001b[1;32m<ipython-input-42-f7df21e5ec2c>\u001b[0m in \u001b[0;36m<module>\u001b[1;34m\u001b[0m\n\u001b[1;32m----> 1\u001b[1;33m \u001b[0mXX\u001b[0m\u001b[1;33m\u001b[0m\u001b[1;33m\u001b[0m\u001b[0m\n\u001b[0m",
      "\u001b[1;31mNameError\u001b[0m: name 'XX' is not defined"
     ]
    }
   ],
   "source": [
    "XX"
   ]
  },
  {
   "cell_type": "code",
   "execution_count": null,
   "metadata": {},
   "outputs": [],
   "source": []
  }
 ],
 "metadata": {
  "kernelspec": {
   "display_name": "Python 3",
   "language": "python",
   "name": "python3"
  },
  "language_info": {
   "codemirror_mode": {
    "name": "ipython",
    "version": 3
   },
   "file_extension": ".py",
   "mimetype": "text/x-python",
   "name": "python",
   "nbconvert_exporter": "python",
   "pygments_lexer": "ipython3",
   "version": "3.8.5"
  }
 },
 "nbformat": 4,
 "nbformat_minor": 4
}
