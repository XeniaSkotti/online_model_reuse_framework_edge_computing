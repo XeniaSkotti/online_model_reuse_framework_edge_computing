{
 "cells": [
  {
   "cell_type": "code",
   "execution_count": 1,
   "id": "f1231c45",
   "metadata": {},
   "outputs": [],
   "source": [
    "# do this if you use a custom virtual environment to specify the directory to look for installed packages\n",
    "import sys\n",
    "import os\n",
    "import pandas as pd\n",
    "## goes back to the project directory\n",
    "os.chdir(\"..\")\n",
    "# switch to the name of your virtual environment\n",
    "kernel_name = \".venv_mp\"\n",
    "sys.path.append(\"\\\\\".join([os.getcwd(), kernel_name, \"Lib\\\\site-packages\"]))"
   ]
  },
  {
   "cell_type": "code",
   "execution_count": 6,
   "id": "cefdc048",
   "metadata": {},
   "outputs": [],
   "source": [
    "from node import create_samples, save_samples\n",
    "directory = \"//\".join([os.getcwd(), \"data\", \"bank-marketing\", \"reduced\", \"raw_node_data.csv\"])\n",
    "raw_data = pd.read_csv(directory, header =0, index_col = 0)\n",
    "n_samples = 100\n",
    "samples = create_samples(n_samples, raw_data)\n",
    "save_samples(samples, \"bank\")"
   ]
  },
  {
   "cell_type": "code",
   "execution_count": 2,
   "id": "67f160db",
   "metadata": {},
   "outputs": [],
   "source": [
    "from node import get_node_data\n",
    "directory = \"//\".join([os.getcwd(), \"data\", \"bank-marketing\", \"samples\"])\n",
    "samples = [get_node_data(pd.read_csv(directory + f\"//sample_{i+1}.csv\")) for i in range(100)]"
   ]
  },
  {
   "cell_type": "code",
   "execution_count": 3,
   "id": "4030d4de",
   "metadata": {},
   "outputs": [],
   "source": [
    "from modelling import select_model_data  \n",
    "from similar import get_similar_pairs_nodes\n",
    "from hypothesis_testing import test_hypothesis\n",
    "\n",
    "def get_results(raw_node_data):\n",
    "    results = []\n",
    "    for balanced in [True, False]:\n",
    "        if balanced:\n",
    "            balanced_node_data = []\n",
    "            for df in raw_node_data:\n",
    "                yes = df.loc[df.label == \"yes\"]\n",
    "                no = df.loc[df.label == \"no\"]\n",
    "                if yes.shape[0] < no.shape[0]:\n",
    "                    balanced_df = [yes, no.sample(yes.shape[0])]\n",
    "                else:\n",
    "                    balanced_df = [no, yes.sample(no.shape[0])]\n",
    "                balanced_node_data.append(pd.concat(balanced_df).sample(frac=1).reset_index(drop=True))\n",
    "            raw_node = balanced_node_data\n",
    "                \n",
    "        node_data, similar_pairs, similar_nodes, asmmd, mmd_scores, ocsvm_scores = get_similar_pairs_nodes(raw_node_data)\n",
    "        \n",
    "        if similar_pairs != []:\n",
    "            print(f\"{similar_pairs} (balanced={balanced})\", end=\" \")\n",
    "            model_data = select_model_data(node_data, similar_nodes)\n",
    "            df = test_hypothesis(\"lr\", model_data, similar_pairs, similar_nodes, mmd_scores, ocsvm_scores)\n",
    "            df[\"asmmd\"] = [asmmd] * df.shape[0]\n",
    "            df[\"balanced\"] = [balanced] * df.shape[0]\n",
    "            results.append(df)\n",
    "    if results != []:\n",
    "        return pd.concat(results, ignore_index = True)\n",
    "    else:\n",
    "        return pd.DataFrame()"
   ]
  },
  {
   "cell_type": "code",
   "execution_count": 4,
   "id": "fa08927d",
   "metadata": {},
   "outputs": [],
   "source": [
    "def run(samples):\n",
    "    for sample_id in range(100):\n",
    "        print(f\"Sample {sample_id+1}\", end=\": \")\n",
    "        results = get_results(samples[sample_id])\n",
    "        results.to_csv(f\"results/bank-marketing/sample_{sample_id+1}.csv\", index=False)\n",
    "        print()"
   ]
  },
  {
   "cell_type": "code",
   "execution_count": null,
   "id": "6f261be4",
   "metadata": {},
   "outputs": [
    {
     "name": "stdout",
     "output_type": "stream",
     "text": [
      "Sample 1: [('pi4', 'pi5')] (balanced=True) [('pi4', 'pi5')] (balanced=False) \n",
      "Sample 2: [('pi2', 'pi4'), ('pi2', 'pi5'), ('pi4', 'pi5')] (balanced=True) [('pi2', 'pi4'), ('pi2', 'pi5'), ('pi4', 'pi5')] (balanced=False) "
     ]
    }
   ],
   "source": [
    "run(samples)"
   ]
  },
  {
   "cell_type": "markdown",
   "id": "daea715a",
   "metadata": {},
   "source": []
  }
 ],
 "metadata": {
  "kernelspec": {
   "display_name": ".venv_mp",
   "language": "python",
   "name": ".venv_mp"
  },
  "language_info": {
   "codemirror_mode": {
    "name": "ipython",
    "version": 3
   },
   "file_extension": ".py",
   "mimetype": "text/x-python",
   "name": "python",
   "nbconvert_exporter": "python",
   "pygments_lexer": "ipython3",
   "version": "3.8.8"
  }
 },
 "nbformat": 4,
 "nbformat_minor": 5
}
