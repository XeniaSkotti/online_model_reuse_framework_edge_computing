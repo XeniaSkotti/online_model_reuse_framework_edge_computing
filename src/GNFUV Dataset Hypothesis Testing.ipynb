{
 "cells": [
  {
   "cell_type": "code",
   "execution_count": 1,
   "id": "d99ec64c",
   "metadata": {},
   "outputs": [],
   "source": [
    "# do this if you use a custom virtual environment to specify the directory to look for installed packages\n",
    "import sys\n",
    "import os\n",
    "## goes back to the project directory\n",
    "os.chdir(\"..\")\n",
    "# switch to the name of your virtual environment\n",
    "kernel_name = \".venv_mp\"\n",
    "sys.path.append(\"\\\\\".join([os.getcwd(), kernel_name, \"Lib\\\\site-packages\"]))"
   ]
  },
  {
   "cell_type": "code",
   "execution_count": 2,
   "id": "9748b82b",
   "metadata": {},
   "outputs": [],
   "source": [
    "from data_reader import read_data\n",
    "from node import get_node_data\n",
    "import pandas as pd\n",
    "import numpy as np"
   ]
  },
  {
   "cell_type": "code",
   "execution_count": 3,
   "id": "7246d6d6",
   "metadata": {},
   "outputs": [],
   "source": [
    "raw_data = read_data(\"gnfuv\")\n",
    "# nodes = {\"pi\"+str(i+2):i for i in range(4)}\n",
    "nodes = [\"pi2\", \"pi3\", \"pi4\", \"pi5\"]"
   ]
  },
  {
   "cell_type": "code",
   "execution_count": 4,
   "id": "9dee4c1c",
   "metadata": {},
   "outputs": [],
   "source": [
    "from modelling import select_model_data  \n",
    "from hypothesis_testing import test_hypothesis\n",
    "from similar import get_similar_pairs_nodes\n",
    "\n",
    "def get_results(data, standardised):\n",
    "    results = []\n",
    "    for experiment in range(1,4):\n",
    "        node_data, similar_pairs, similar_nodes, asmmd, mmd_scores, ocsvm_scores = get_similar_pairs_nodes(data, [experiment, standardised])\n",
    "        if similar_pairs != []:\n",
    "            print(f\"Experiment {experiment} {similar_pairs}\", end=\" \")\n",
    "            \n",
    "            model_data = select_model_data(node_data, similar_nodes)\n",
    "            svr_df = test_hypothesis(\"svr\", model_data, similar_pairs, similar_nodes, mmd_scores, ocsvm_scores)\n",
    "            svr_df[\"kernel\"] = [\"rbf\"] * svr_df.shape[0]\n",
    "            lsvr_df = test_hypothesis(\"lsvr\", model_data, similar_pairs, similar_nodes, mmd_scores, ocsvm_scores)\n",
    "            lsvr_df[\"kernel\"] = [\"linear\"] * svr_df.shape[0]\n",
    "            \n",
    "            df = pd.concat([svr_df, lsvr_df], ignore_index = True)\n",
    "            df[\"experiment\"] = [experiment] * df.shape[0]\n",
    "            df[\"std\"] = [standardised] * df.shape[0]\n",
    "            df[\"asmmd\"] = [asmmd] * df.shape[0]\n",
    "            results.append(df)\n",
    "\n",
    "    return pd.concat(results, ignore_index = True)"
   ]
  },
  {
   "cell_type": "code",
   "execution_count": 5,
   "id": "6ea9907b",
   "metadata": {},
   "outputs": [],
   "source": [
    "from node import create_samples, save_samples\n",
    "standardised = True\n",
    "n_samples = 100\n",
    "std_samples = create_samples(n_samples, raw_data, standardised)\n",
    "save_samples(std_samples, \"other\", standardised)"
   ]
  },
  {
   "cell_type": "code",
   "execution_count": 6,
   "id": "48a17ff4",
   "metadata": {},
   "outputs": [],
   "source": [
    "standardised = False\n",
    "samples = create_samples(n_samples, raw_data, standardised)\n",
    "save_samples(samples, \"other\", standardised)"
   ]
  },
  {
   "cell_type": "code",
   "execution_count": 7,
   "id": "cca1f365",
   "metadata": {},
   "outputs": [],
   "source": [
    "def run(samples, standardised):\n",
    "    if standardised:\n",
    "        data_type = \"standardised\"\n",
    "    else:\n",
    "        data_type = \"original\"\n",
    "    for sample_id in range(len(samples[1])):\n",
    "        print(f\"Sample {sample_id+1}\", end=\": \")\n",
    "        data = {1: [], 2: [], 3 : []}\n",
    "        for experiment in range(1,4):\n",
    "            data[experiment] = samples[experiment][sample_id]\n",
    "\n",
    "        results = get_results(data, standardised)\n",
    "        results.to_csv(f\"results/GNFUV/{data_type}/sample_{sample_id+1}.csv\", index=False)\n",
    "        print()"
   ]
  },
  {
   "cell_type": "code",
   "execution_count": null,
   "id": "185b1f78",
   "metadata": {
    "scrolled": true
   },
   "outputs": [
    {
     "name": "stdout",
     "output_type": "stream",
     "text": [
      "Sample 1: Experiment 1 [('pi2', 'pi3'), ('pi3', 'pi4')] Experiment 2 [('pi2', 'pi3'), ('pi3', 'pi5')] Experiment 3 [('pi2', 'pi4')] \n",
      "Sample 2: Experiment 1 [('pi2', 'pi3'), ('pi3', 'pi4')] Experiment 2 [('pi2', 'pi3'), ('pi3', 'pi5')] "
     ]
    }
   ],
   "source": [
    "run(std_samples, standardised = True)"
   ]
  },
  {
   "cell_type": "code",
   "execution_count": null,
   "id": "e8db146d",
   "metadata": {},
   "outputs": [],
   "source": [
    "run(samples, standardised = False)"
   ]
  },
  {
   "cell_type": "code",
   "execution_count": null,
   "id": "d3eb10c0",
   "metadata": {},
   "outputs": [],
   "source": []
  }
 ],
 "metadata": {
  "kernelspec": {
   "display_name": ".venv_mp",
   "language": "python",
   "name": ".venv_mp"
  },
  "language_info": {
   "codemirror_mode": {
    "name": "ipython",
    "version": 3
   },
   "file_extension": ".py",
   "mimetype": "text/x-python",
   "name": "python",
   "nbconvert_exporter": "python",
   "pygments_lexer": "ipython3",
   "version": "3.8.8"
  }
 },
 "nbformat": 4,
 "nbformat_minor": 5
}
