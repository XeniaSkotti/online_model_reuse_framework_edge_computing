{
 "cells": [
  {
   "cell_type": "code",
   "execution_count": 1,
   "id": "7dba93b7",
   "metadata": {},
   "outputs": [],
   "source": [
    "# do this if you use a custom virtual environment to specify the directory to look for installed packages\n",
    "import sys\n",
    "import os\n",
    "## goes back to the project directory\n",
    "os.chdir(\"..\")\n",
    "# switch to the name of your virtual environment\n",
    "kernel_name = \".venv_mp\"\n",
    "sys.path.append(\"\\\\\".join([os.getcwd(), kernel_name, \"Lib\\\\site-packages\"]))"
   ]
  },
  {
   "cell_type": "code",
   "execution_count": 2,
   "id": "df12e020",
   "metadata": {},
   "outputs": [],
   "source": [
    "from data_reader import read_data\n",
    "from node import get_node_data\n",
    "import pandas as pd\n",
    "import numpy as np"
   ]
  },
  {
   "cell_type": "code",
   "execution_count": 3,
   "id": "85b27956",
   "metadata": {},
   "outputs": [],
   "source": [
    "raw_data = read_data()\n",
    "nodes = [\"pi2\", \"pi3\", \"pi4\", \"pi5\"]"
   ]
  },
  {
   "cell_type": "code",
   "execution_count": 28,
   "id": "3da05569",
   "metadata": {
    "scrolled": true
   },
   "outputs": [
    {
     "name": "stdout",
     "output_type": "stream",
     "text": [
      "1532 3 45 35.85 6.57 15 57 27.6 11.08\n",
      "899 19 33 28.53 4.39 34 59 43.04 6.17\n",
      "1766 18 45 35.47 6.55 0 64 28.2 11.71\n",
      "2078 18 37 27.51 5.1 20 63 39.78 6.9\n",
      "\n",
      "580 26 56 48.48 6.6 21 49 28.42 3.86\n",
      "807 27 49 41.73 4.14 17 46 23.41 5.66\n",
      "1021 30 59 50.56 6.4 16 36 22.76 2.76\n",
      "1407 30 48 40.13 2.73 20 49 28.05 3.36\n",
      "\n",
      "342 33 42 38.39 2.39 17 31 23.44 4.09\n",
      "264 27 33 31.95 0.77 34 43 38.63 1.26\n",
      "488 20 39 31.24 5.31 23 59 38.28 10.56\n",
      "555 21 37 25.23 3.91 20 47 38.13 4.65\n",
      "\n"
     ]
    }
   ],
   "source": [
    "for experiment in range(1,4):\n",
    "    exp = raw_data.loc[raw_data.experiment == experiment]\n",
    "    for node in nodes:\n",
    "        node_data = exp.loc[exp.pi==node]\n",
    "        print(len(node_data), end = \" \")\n",
    "        print(f\"{node_data.temperature.min()} {node_data.temperature.max()} {round(node_data.temperature.mean(),2)} {round(node_data.temperature.std(),2)}\", end =\" \")\n",
    "        print(f\"{node_data.humidity.min()} {node_data.humidity.max()} {round(node_data.humidity.mean(),2)} {round(node_data.humidity.std(),2)}\")\n",
    "    print()"
   ]
  },
  {
   "cell_type": "code",
   "execution_count": null,
   "id": "0ebc01fb",
   "metadata": {},
   "outputs": [],
   "source": []
  }
 ],
 "metadata": {
  "kernelspec": {
   "display_name": ".venv_mp",
   "language": "python",
   "name": ".venv_mp"
  },
  "language_info": {
   "codemirror_mode": {
    "name": "ipython",
    "version": 3
   },
   "file_extension": ".py",
   "mimetype": "text/x-python",
   "name": "python",
   "nbconvert_exporter": "python",
   "pygments_lexer": "ipython3",
   "version": "3.8.8"
  }
 },
 "nbformat": 4,
 "nbformat_minor": 5
}
