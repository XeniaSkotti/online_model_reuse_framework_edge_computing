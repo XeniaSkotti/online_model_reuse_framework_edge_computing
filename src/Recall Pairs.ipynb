{
 "cells": [
  {
   "cell_type": "code",
   "execution_count": 1,
   "id": "3a8e2ca0",
   "metadata": {},
   "outputs": [],
   "source": [
    "# do this if you use a custom virtual environment to specify the directory to look for installed packages\n",
    "import sys\n",
    "import os\n",
    "## goes back to the project directory\n",
    "os.chdir(\"..\")\n",
    "# switch to the name of your virtual environment\n",
    "kernel_name = \".venv_mp\"\n",
    "sys.path.append(\"\\\\\".join([os.getcwd(), kernel_name, \"Lib\\\\site-packages\"]))"
   ]
  },
  {
   "cell_type": "code",
   "execution_count": 2,
   "id": "88e4f93b",
   "metadata": {},
   "outputs": [],
   "source": [
    "from data_reader import read_data\n",
    "from node import get_node_data, standardise_node_data\n",
    "import pandas as pd\n",
    "from itertools import combinations as comb\n",
    "from modelling import grid_search_models, fit_clf, score_clf, select_model_data"
   ]
  },
  {
   "cell_type": "code",
   "execution_count": 3,
   "id": "db319885",
   "metadata": {},
   "outputs": [],
   "source": [
    "raw_data = read_data()\n",
    "nodes = [\"pi2\", \"pi3\", \"pi4\", \"pi5\"]"
   ]
  },
  {
   "cell_type": "code",
   "execution_count": 6,
   "id": "94b82763",
   "metadata": {},
   "outputs": [
    {
     "name": "stdout",
     "output_type": "stream",
     "text": [
      "('pi2', 'pi3')\n",
      "('pi2', 'pi4')\n",
      "('pi2', 'pi5')\n",
      "('pi3', 'pi4')\n",
      "('pi3', 'pi5')\n",
      "('pi4', 'pi5')\n"
     ]
    }
   ],
   "source": [
    "for c in comb(nodes, 2):\n",
    "    print(c)"
   ]
  },
  {
   "cell_type": "code",
   "execution_count": 4,
   "id": "f4ab1b27",
   "metadata": {},
   "outputs": [],
   "source": [
    "def get_data(raw_data, standardised):\n",
    "    exp_node_data = {}\n",
    "    for experiment in range(1,4):\n",
    "        node_data = get_node_data(raw_data, experiment, filtered=False)\n",
    "        if standardised:\n",
    "            node_data = standardise_node_data(experiment,node_data)\n",
    "        a, b, c, d = node_data\n",
    "        exp_node_data[experiment] = select_model_data(node_data, nodes)\n",
    "    return exp_node_data"
   ]
  },
  {
   "cell_type": "code",
   "execution_count": 5,
   "id": "12816d5a",
   "metadata": {},
   "outputs": [],
   "source": [
    "original = get_data(raw_data, standardised=False)\n",
    "std = get_data(raw_data, standardised=True)\n",
    "data = [original, std]"
   ]
  },
  {
   "cell_type": "code",
   "execution_count": 11,
   "id": "b3d8c949",
   "metadata": {},
   "outputs": [
    {
     "name": "stdout",
     "output_type": "stream",
     "text": [
      "original\n",
      "Experiment 1: (pi2, pi3 (0.85, -2.02)) (pi2, pi4 (0.92, 0.96)) (svr), (pi2, pi3 (0.83, 0.74)) (pi2, pi5 (0.77, 0.87)) (pi3, pi4 (0.69, 0.93)) (pi4, pi5 (0.26, 0.9)) (lsvr), \n",
      "Experiment 2: (svr), (lsvr), \n",
      "Experiment 3: (svr), (pi2, pi4 (0.94, 0.97)) (lsvr), \n",
      "standardised\n",
      "Experiment 1: (pi2, pi3 (0.93, 0.95)) (pi2, pi4 (0.94, 0.95)) (pi3, pi4 (0.96, 0.97)) (svr), (pi2, pi5 (0.65, 0.9)) (pi3, pi5 (0.75, 0.91)) (pi4, pi5 (0.77, 0.92)) (lsvr), \n",
      "Experiment 2: (svr), (lsvr), \n",
      "Experiment 3: (svr), (pi3, pi5 (0.81, 0.67)) (pi4, pi5 (0.99, 0.77)) (lsvr), \n"
     ]
    }
   ],
   "source": [
    "std = [\"original\", \"standardised\"]\n",
    "for i in range(2):\n",
    "    print(std[i])\n",
    "    for experiment in range(1,4):\n",
    "        print(f\"Experiment {experiment}\", end=\": \")\n",
    "        d = data[i][experiment]\n",
    "        for kernel in [\"svr\", \"lsvr\"]:\n",
    "            models,  df = grid_search_models(kernel, d, nodes)\n",
    "            for x,y in comb(nodes, 2):\n",
    "                ex = fit_clf(models[x], d[x])\n",
    "                exy = score_clf(models[x], d[y])\n",
    "\n",
    "                ey = fit_clf(models[y], d[y])\n",
    "                eyx = score_clf(models[y], d[x])\n",
    "                \n",
    "                score_x = round(exy/ey, 2)\n",
    "                score_y = round(eyx/ex, 2)\n",
    "                if max(score_y, score_x) > 0.8 and max(score_y, score_x) < 1:\n",
    "                    print(f\"({x}, {y} {score_x, score_y})\", end = \" \")\n",
    "            print(f\"({kernel})\", end = \", \")\n",
    "        print()"
   ]
  },
  {
   "cell_type": "code",
   "execution_count": null,
   "id": "d369e755",
   "metadata": {},
   "outputs": [],
   "source": []
  }
 ],
 "metadata": {
  "kernelspec": {
   "display_name": ".venv_mp",
   "language": "python",
   "name": ".venv_mp"
  },
  "language_info": {
   "codemirror_mode": {
    "name": "ipython",
    "version": 3
   },
   "file_extension": ".py",
   "mimetype": "text/x-python",
   "name": "python",
   "nbconvert_exporter": "python",
   "pygments_lexer": "ipython3",
   "version": "3.8.8"
  }
 },
 "nbformat": 4,
 "nbformat_minor": 5
}
