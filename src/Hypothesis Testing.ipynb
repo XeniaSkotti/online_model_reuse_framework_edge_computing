{
 "cells": [
  {
   "cell_type": "code",
   "execution_count": 1,
   "id": "d99ec64c",
   "metadata": {},
   "outputs": [],
   "source": [
    "# do this if you use a custom virtual environment to specify the directory to look for installed packages\n",
    "import sys\n",
    "import os\n",
    "## goes back to the project directory\n",
    "os.chdir(\"..\")\n",
    "# switch to the name of your virtual environment\n",
    "kernel_name = \".venv_mp\"\n",
    "sys.path.append(\"\\\\\".join([os.getcwd(), kernel_name, \"Lib\\\\site-packages\"]))"
   ]
  },
  {
   "cell_type": "code",
   "execution_count": 2,
   "id": "9748b82b",
   "metadata": {},
   "outputs": [],
   "source": [
    "from data_reader import read_data\n",
    "from node import get_node_data\n",
    "import pandas as pd\n",
    "import numpy as np"
   ]
  },
  {
   "cell_type": "code",
   "execution_count": 3,
   "id": "7246d6d6",
   "metadata": {},
   "outputs": [],
   "source": [
    "raw_data = read_data()\n",
    "# nodes = {\"pi\"+str(i+2):i for i in range(4)}\n",
    "nodes = [\"pi2\", \"pi3\", \"pi4\", \"pi5\"]"
   ]
  },
  {
   "cell_type": "code",
   "execution_count": 4,
   "id": "9dee4c1c",
   "metadata": {},
   "outputs": [],
   "source": [
    "from modelling import grid_search_models, fit_clf, score_clf, select_model_data  \n",
    "from similar import get_similar_pairs_nodes\n",
    "\n",
    "def test_in_pairs(similar_pairs, model_data, models, mmd_scores, ocsvm_scores):\n",
    "    l = []\n",
    "    for i in range(len(similar_pairs)):\n",
    "        node_x, node_y = similar_pairs[i]\n",
    "        x = model_data[node_x]\n",
    "        y = model_data[node_y]\n",
    "        \n",
    "        model_x = models[node_x]\n",
    "        ex = fit_clf(model_x, x)\n",
    "        exy = score_clf(model_x, y)\n",
    "\n",
    "        model_y = models[node_y]\n",
    "        ey = fit_clf(model_y, y)\n",
    "        eyx = score_clf(model_y, x)       \n",
    "        \n",
    "        l.append(pd.DataFrame([{\"model_node\" : node_x, \"test_node\" : node_y, \"discrepancy\" : round(abs(ex-exy),2), \n",
    "                               \"mmd_score\" : mmd_scores[i], \"ocsvm_score\" : ocsvm_scores[i][0]}]))\n",
    "        l.append(pd.DataFrame([{\"model_node\" : node_y, \"test_node\" : node_x, \"discrepancy\" : round(abs(ey-eyx),2),\n",
    "                                \"mmd_score\" : mmd_scores[i], \"ocsvm_score\" : ocsvm_scores[i][1]}]))\n",
    "    return pd.concat(l, ignore_index = True)\n",
    "\n",
    "def test_hypothesis(clf_name, model_data, similar_pairs, similar_nodes, mmd_scores, ocsvm_scores): \n",
    "    models, models_df = grid_search_models(clf_name, model_data, similar_nodes)\n",
    "    test_df = test_in_pairs(similar_pairs, model_data, models, mmd_scores, ocsvm_scores)\n",
    "    return models_df.merge(test_df, how='outer', on='model_node')\n",
    "    \n",
    "def test_hypothesis_all_clfs(data, similar_pairs, similar_nodes, mmd_scores, ocsvm_scores):\n",
    "    model_data = select_model_data(data, similar_nodes)\n",
    "    svr_df = test_hypothesis(\"svr\", model_data, similar_pairs, similar_nodes, mmd_scores, ocsvm_scores)\n",
    "    lsvr_df = test_hypothesis(\"lsvr\", model_data, similar_pairs, similar_nodes, mmd_scores, ocsvm_scores)\n",
    "    df = pd.concat([svr_df, lsvr_df], ignore_index = True)\n",
    "    \n",
    "    return df"
   ]
  },
  {
   "cell_type": "code",
   "execution_count": 5,
   "id": "5a9463f1",
   "metadata": {},
   "outputs": [],
   "source": [
    "def get_results(data, standardised):\n",
    "    results = []\n",
    "    for experiment in range(1,4):\n",
    "        print(f\"Experiment {experiment}: \", end=\"\")\n",
    "        similar_pairs, similar_nodes, asmmd, mmd_scores, ocsvm_scores = get_similar_pairs_nodes(experiment, data, standardised)\n",
    "\n",
    "        print(similar_pairs)\n",
    "        df = test_hypothesis_all_clfs(data[experiment][\"sampled_data\"], similar_pairs, similar_nodes, mmd_scores, ocsvm_scores)\n",
    "\n",
    "        df[\"experiment\"] = [experiment] * df.shape[0]\n",
    "        df[\"std\"] = [standardised] * df.shape[0]\n",
    "        df[\"asmmd\"] = [asmmd] * df.shape[0]\n",
    "        results.append(df)\n",
    "\n",
    "    return pd.concat(results, ignore_index = True)"
   ]
  },
  {
   "cell_type": "code",
   "execution_count": 6,
   "id": "d6e2e680",
   "metadata": {},
   "outputs": [],
   "source": [
    "from node import create_samples\n",
    "\n",
    "def save_samples(samples, ocsvm_data, standardised):\n",
    "    if standardised:\n",
    "        f = \"standardised\"\n",
    "    else:\n",
    "        f = \"original\"\n",
    "        \n",
    "    raw_node_data = []\n",
    "    for experiment in range(1,4):\n",
    "        raw_node_data.append(pd.concat(ocsvm_data[experiment][\"raw_node_data\"]))\n",
    "    raw_node_data = pd.concat(raw_node_data)\n",
    "    raw_node_data.to_csv(f\"data/samples/{f}/raw_node_data.csv\")\n",
    "\n",
    "    for sample_id in range(4):\n",
    "        sample = []\n",
    "        for experiment in range(1,4):\n",
    "            sample.append(pd.concat(samples[experiment][sample_id]))\n",
    "        results = pd.concat(sample, ignore_index = True)\n",
    "        results.to_csv(f\"data/samples/{f}/sample_{sample_id+1}.csv\", index=False)"
   ]
  },
  {
   "cell_type": "code",
   "execution_count": 7,
   "id": "6ea9907b",
   "metadata": {},
   "outputs": [],
   "source": [
    "standardised = True\n",
    "std_ocsvm_data, std_samples = create_samples(raw_data, standardised)\n",
    "save_samples(std_samples, std_ocsvm_data, standardised)"
   ]
  },
  {
   "cell_type": "code",
   "execution_count": 8,
   "id": "48a17ff4",
   "metadata": {},
   "outputs": [],
   "source": [
    "standardised = False\n",
    "ocsvm_data, samples = create_samples(raw_data, standardised)\n",
    "save_samples(samples, ocsvm_data, standardised)"
   ]
  },
  {
   "cell_type": "code",
   "execution_count": 9,
   "id": "cca1f365",
   "metadata": {},
   "outputs": [],
   "source": [
    "def run(ocsvm_data, samples, standardised):\n",
    "    if standardised:\n",
    "        data_type = \"standardised\"\n",
    "    else:\n",
    "        data_type = \"original\"\n",
    "    for sample_id in range(4):\n",
    "        print(f\"Sample {sample_id+1} \\n\")\n",
    "        data = ocsvm_data.copy()\n",
    "        for experiment in range(1,4):\n",
    "            data[experiment][\"sampled_data\"] = samples[experiment][sample_id]\n",
    "\n",
    "        results = get_results(data, standardised)\n",
    "        results.to_csv(f\"results/{data_type}/sample_{sample_id+1}.csv\", index=False)\n",
    "        print()"
   ]
  },
  {
   "cell_type": "code",
   "execution_count": 10,
   "id": "185b1f78",
   "metadata": {},
   "outputs": [
    {
     "name": "stdout",
     "output_type": "stream",
     "text": [
      "Sample 1 \n",
      "\n",
      "Experiment 1: [('pi2', 'pi3'), ('pi3', 'pi4')]\n",
      "Experiment 2: [('pi2', 'pi3'), ('pi3', 'pi5')]\n",
      "Experiment 3: [('pi2', 'pi4'), ('pi4', 'pi5')]\n",
      "\n",
      "Sample 2 \n",
      "\n",
      "Experiment 1: [('pi2', 'pi3'), ('pi3', 'pi4')]\n",
      "Experiment 2: [('pi2', 'pi3'), ('pi3', 'pi5')]\n",
      "Experiment 3: [('pi2', 'pi4')]\n",
      "\n",
      "Sample 3 \n",
      "\n",
      "Experiment 1: [('pi2', 'pi3'), ('pi3', 'pi4')]\n",
      "Experiment 2: [('pi2', 'pi3'), ('pi3', 'pi5')]\n",
      "Experiment 3: [('pi2', 'pi4'), ('pi4', 'pi5')]\n",
      "\n",
      "Sample 4 \n",
      "\n",
      "Experiment 1: [('pi2', 'pi3'), ('pi3', 'pi4')]\n",
      "Experiment 2: [('pi2', 'pi3'), ('pi3', 'pi5')]\n",
      "Experiment 3: [('pi2', 'pi4')]\n",
      "\n"
     ]
    }
   ],
   "source": [
    "run(std_ocsvm_data, std_samples, standardised = True)"
   ]
  },
  {
   "cell_type": "code",
   "execution_count": 11,
   "id": "e8db146d",
   "metadata": {},
   "outputs": [
    {
     "name": "stdout",
     "output_type": "stream",
     "text": [
      "Sample 1 \n",
      "\n",
      "Experiment 1: [('pi2', 'pi4')]\n",
      "Experiment 2: [('pi2', 'pi4')]\n",
      "Experiment 3: [('pi2', 'pi4'), ('pi2', 'pi5'), ('pi4', 'pi5')]\n",
      "\n",
      "Sample 2 \n",
      "\n",
      "Experiment 1: [('pi2', 'pi4')]\n",
      "Experiment 2: [('pi2', 'pi4'), ('pi3', 'pi5')]\n",
      "Experiment 3: [('pi2', 'pi4'), ('pi2', 'pi5'), ('pi4', 'pi5')]\n",
      "\n",
      "Sample 3 \n",
      "\n",
      "Experiment 1: [('pi2', 'pi4')]\n",
      "Experiment 2: [('pi2', 'pi4')]\n",
      "Experiment 3: [('pi2', 'pi4'), ('pi2', 'pi5'), ('pi4', 'pi5')]\n",
      "\n",
      "Sample 4 \n",
      "\n",
      "Experiment 1: [('pi2', 'pi4')]\n",
      "Experiment 2: [('pi2', 'pi4'), ('pi3', 'pi5')]\n",
      "Experiment 3: [('pi2', 'pi4'), ('pi2', 'pi5'), ('pi4', 'pi5')]\n",
      "\n"
     ]
    }
   ],
   "source": [
    "run(ocsvm_data, samples, standardised = False)"
   ]
  },
  {
   "cell_type": "code",
   "execution_count": null,
   "id": "d3eb10c0",
   "metadata": {},
   "outputs": [],
   "source": []
  }
 ],
 "metadata": {
  "kernelspec": {
   "display_name": ".venv_mp",
   "language": "python",
   "name": ".venv_mp"
  },
  "language_info": {
   "codemirror_mode": {
    "name": "ipython",
    "version": 3
   },
   "file_extension": ".py",
   "mimetype": "text/x-python",
   "name": "python",
   "nbconvert_exporter": "python",
   "pygments_lexer": "ipython3",
   "version": "3.8.8"
  }
 },
 "nbformat": 4,
 "nbformat_minor": 5
}
