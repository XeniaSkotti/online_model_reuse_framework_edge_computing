{
 "cells": [
  {
   "cell_type": "code",
   "execution_count": 1,
   "id": "e85c167f",
   "metadata": {},
   "outputs": [],
   "source": [
    "# do this if you use a custom virtual environment to specify the directory to look for installed packages\n",
    "import sys\n",
    "import os\n",
    "## goes back to the project directory\n",
    "os.chdir(\"..\")\n",
    "# switch to the name of your virtual environment\n",
    "kernel_name = \".venv_mp\"\n",
    "sys.path.append(\"\\\\\".join([os.getcwd(), kernel_name, \"Lib\\\\site-packages\"]))"
   ]
  },
  {
   "cell_type": "code",
   "execution_count": 2,
   "id": "5daa8358",
   "metadata": {},
   "outputs": [],
   "source": [
    "import pandas as pd"
   ]
  },
  {
   "cell_type": "code",
   "execution_count": 21,
   "id": "f24fb435",
   "metadata": {},
   "outputs": [],
   "source": [
    "data = pd.read_csv(\"results/methods_results.csv\")"
   ]
  },
  {
   "cell_type": "code",
   "execution_count": 66,
   "id": "daa5f94b",
   "metadata": {},
   "outputs": [],
   "source": [
    "methods = [\"MMD\", \"OCSVM\", \"MMD OCSVM Verify\"]\n",
    "model_types = {\"kernel=\\'linear\\'\" : \"LSVR\", \"SVR(\":\"SVR\", \"LinearRegression\" : \"LReg\"}\n",
    "normalized = {True : \"std\", False: \"\"}"
   ]
  },
  {
   "cell_type": "code",
   "execution_count": 23,
   "id": "5285ff46",
   "metadata": {},
   "outputs": [
    {
     "data": {
      "text/html": [
       "<div>\n",
       "<style scoped>\n",
       "    .dataframe tbody tr th:only-of-type {\n",
       "        vertical-align: middle;\n",
       "    }\n",
       "\n",
       "    .dataframe tbody tr th {\n",
       "        vertical-align: top;\n",
       "    }\n",
       "\n",
       "    .dataframe thead th {\n",
       "        text-align: right;\n",
       "    }\n",
       "</style>\n",
       "<table border=\"1\" class=\"dataframe\">\n",
       "  <thead>\n",
       "    <tr style=\"text-align: right;\">\n",
       "      <th></th>\n",
       "      <th>model_node</th>\n",
       "      <th>model</th>\n",
       "      <th>score</th>\n",
       "      <th>test_node</th>\n",
       "      <th>discrepancy</th>\n",
       "      <th>method</th>\n",
       "      <th>std</th>\n",
       "      <th>experiment</th>\n",
       "    </tr>\n",
       "  </thead>\n",
       "  <tbody>\n",
       "    <tr>\n",
       "      <th>0</th>\n",
       "      <td>pi2</td>\n",
       "      <td>SVR(C=100)</td>\n",
       "      <td>0.990729</td>\n",
       "      <td>pi4</td>\n",
       "      <td>0.074386</td>\n",
       "      <td>MMD</td>\n",
       "      <td>True</td>\n",
       "      <td>1</td>\n",
       "    </tr>\n",
       "    <tr>\n",
       "      <th>1</th>\n",
       "      <td>pi4</td>\n",
       "      <td>SVR(C=100, epsilon=0.2)</td>\n",
       "      <td>0.963401</td>\n",
       "      <td>pi2</td>\n",
       "      <td>0.122683</td>\n",
       "      <td>MMD</td>\n",
       "      <td>True</td>\n",
       "      <td>1</td>\n",
       "    </tr>\n",
       "    <tr>\n",
       "      <th>2</th>\n",
       "      <td>pi2</td>\n",
       "      <td>SVR(kernel='linear')</td>\n",
       "      <td>0.986840</td>\n",
       "      <td>pi4</td>\n",
       "      <td>0.003776</td>\n",
       "      <td>MMD</td>\n",
       "      <td>True</td>\n",
       "      <td>1</td>\n",
       "    </tr>\n",
       "    <tr>\n",
       "      <th>3</th>\n",
       "      <td>pi4</td>\n",
       "      <td>SVR(C=10, epsilon=0.2, kernel='linear')</td>\n",
       "      <td>0.922843</td>\n",
       "      <td>pi2</td>\n",
       "      <td>0.008329</td>\n",
       "      <td>MMD</td>\n",
       "      <td>True</td>\n",
       "      <td>1</td>\n",
       "    </tr>\n",
       "    <tr>\n",
       "      <th>4</th>\n",
       "      <td>pi2</td>\n",
       "      <td>LinearRegression()</td>\n",
       "      <td>0.986870</td>\n",
       "      <td>pi4</td>\n",
       "      <td>0.006617</td>\n",
       "      <td>MMD</td>\n",
       "      <td>True</td>\n",
       "      <td>1</td>\n",
       "    </tr>\n",
       "    <tr>\n",
       "      <th>5</th>\n",
       "      <td>pi4</td>\n",
       "      <td>LinearRegression()</td>\n",
       "      <td>0.925743</td>\n",
       "      <td>pi2</td>\n",
       "      <td>0.005912</td>\n",
       "      <td>MMD</td>\n",
       "      <td>True</td>\n",
       "      <td>1</td>\n",
       "    </tr>\n",
       "    <tr>\n",
       "      <th>24</th>\n",
       "      <td>pi2</td>\n",
       "      <td>SVR(C=100)</td>\n",
       "      <td>0.990495</td>\n",
       "      <td>pi4</td>\n",
       "      <td>0.080507</td>\n",
       "      <td>MMD</td>\n",
       "      <td>False</td>\n",
       "      <td>1</td>\n",
       "    </tr>\n",
       "    <tr>\n",
       "      <th>25</th>\n",
       "      <td>pi4</td>\n",
       "      <td>SVR(C=10, epsilon=0.5)</td>\n",
       "      <td>0.958915</td>\n",
       "      <td>pi2</td>\n",
       "      <td>0.055683</td>\n",
       "      <td>MMD</td>\n",
       "      <td>False</td>\n",
       "      <td>1</td>\n",
       "    </tr>\n",
       "    <tr>\n",
       "      <th>26</th>\n",
       "      <td>pi2</td>\n",
       "      <td>SVR(C=0.01, epsilon=1, kernel='linear')</td>\n",
       "      <td>0.986336</td>\n",
       "      <td>pi4</td>\n",
       "      <td>0.004641</td>\n",
       "      <td>MMD</td>\n",
       "      <td>False</td>\n",
       "      <td>1</td>\n",
       "    </tr>\n",
       "    <tr>\n",
       "      <th>27</th>\n",
       "      <td>pi4</td>\n",
       "      <td>SVR(C=0.01, epsilon=1, kernel='linear')</td>\n",
       "      <td>0.921062</td>\n",
       "      <td>pi2</td>\n",
       "      <td>0.015400</td>\n",
       "      <td>MMD</td>\n",
       "      <td>False</td>\n",
       "      <td>1</td>\n",
       "    </tr>\n",
       "    <tr>\n",
       "      <th>28</th>\n",
       "      <td>pi2</td>\n",
       "      <td>LinearRegression()</td>\n",
       "      <td>0.986870</td>\n",
       "      <td>pi4</td>\n",
       "      <td>0.006617</td>\n",
       "      <td>MMD</td>\n",
       "      <td>False</td>\n",
       "      <td>1</td>\n",
       "    </tr>\n",
       "    <tr>\n",
       "      <th>29</th>\n",
       "      <td>pi4</td>\n",
       "      <td>LinearRegression()</td>\n",
       "      <td>0.925743</td>\n",
       "      <td>pi2</td>\n",
       "      <td>0.005912</td>\n",
       "      <td>MMD</td>\n",
       "      <td>False</td>\n",
       "      <td>1</td>\n",
       "    </tr>\n",
       "  </tbody>\n",
       "</table>\n",
       "</div>"
      ],
      "text/plain": [
       "   model_node                                    model     score test_node  \\\n",
       "0         pi2                               SVR(C=100)  0.990729       pi4   \n",
       "1         pi4                  SVR(C=100, epsilon=0.2)  0.963401       pi2   \n",
       "2         pi2                     SVR(kernel='linear')  0.986840       pi4   \n",
       "3         pi4  SVR(C=10, epsilon=0.2, kernel='linear')  0.922843       pi2   \n",
       "4         pi2                       LinearRegression()  0.986870       pi4   \n",
       "5         pi4                       LinearRegression()  0.925743       pi2   \n",
       "24        pi2                               SVR(C=100)  0.990495       pi4   \n",
       "25        pi4                   SVR(C=10, epsilon=0.5)  0.958915       pi2   \n",
       "26        pi2  SVR(C=0.01, epsilon=1, kernel='linear')  0.986336       pi4   \n",
       "27        pi4  SVR(C=0.01, epsilon=1, kernel='linear')  0.921062       pi2   \n",
       "28        pi2                       LinearRegression()  0.986870       pi4   \n",
       "29        pi4                       LinearRegression()  0.925743       pi2   \n",
       "\n",
       "    discrepancy method    std  experiment  \n",
       "0      0.074386    MMD   True           1  \n",
       "1      0.122683    MMD   True           1  \n",
       "2      0.003776    MMD   True           1  \n",
       "3      0.008329    MMD   True           1  \n",
       "4      0.006617    MMD   True           1  \n",
       "5      0.005912    MMD   True           1  \n",
       "24     0.080507    MMD  False           1  \n",
       "25     0.055683    MMD  False           1  \n",
       "26     0.004641    MMD  False           1  \n",
       "27     0.015400    MMD  False           1  \n",
       "28     0.006617    MMD  False           1  \n",
       "29     0.005912    MMD  False           1  "
      ]
     },
     "execution_count": 23,
     "metadata": {},
     "output_type": "execute_result"
    }
   ],
   "source": [
    "data.loc[(data.experiment==1)&(data.method==\"MMD\")]"
   ]
  },
  {
   "cell_type": "code",
   "execution_count": 67,
   "id": "158830c3",
   "metadata": {},
   "outputs": [
    {
     "data": {
      "image/png": "[encoded data removed]",
      "text/plain": [
       "<Figure size 1224x252 with 3 Axes>"
      ]
     },
     "metadata": {
      "needs_background": "light"
     },
     "output_type": "display_data"
    }
   ],
   "source": [
    "import matplotlib.pyplot as plt\n",
    "fig, axs = plt.subplots(nrows = 1, ncols = 3, sharex=True, figsize= (17,3.5))\n",
    "fig.suptitle(\"Methods\")\n",
    "similar_pairs = \n",
    "for i in range(3):\n",
    "    df = data.loc[(data.experiment==1)&(data.method==methods[i])]\n",
    "    for row in df.itertuples(index=True, name='Pandas'):\n",
    "        model_type = [model_types[m] for m in model_types if m in row.model][0]\n",
    "        l = \"-\".join([str((row.model_node, row.test_node)), model_type, normalized[row.std]])\n",
    "        axs[i].plot(row.discrepancy, row.score, label=l, marker=\"o\")\n",
    "plt.legend()\n",
    "plt.show()"
   ]
  },
  {
   "cell_type": "code",
   "execution_count": 58,
   "id": "b6493235",
   "metadata": {},
   "outputs": [],
   "source": [
    "n = row.model_node, row.test_node"
   ]
  },
  {
   "cell_type": "code",
   "execution_count": 59,
   "id": "15c83876",
   "metadata": {},
   "outputs": [
    {
     "data": {
      "text/plain": [
       "\"('pi2', 'pi4')\""
      ]
     },
     "execution_count": 59,
     "metadata": {},
     "output_type": "execute_result"
    }
   ],
   "source": [
    "str(n)"
   ]
  },
  {
   "cell_type": "code",
   "execution_count": null,
   "id": "620bc5d9",
   "metadata": {},
   "outputs": [],
   "source": []
  }
 ],
 "metadata": {
  "kernelspec": {
   "display_name": ".venv_mp",
   "language": "python",
   "name": ".venv_mp"
  },
  "language_info": {
   "codemirror_mode": {
    "name": "ipython",
    "version": 3
   },
   "file_extension": ".py",
   "mimetype": "text/x-python",
   "name": "python",
   "nbconvert_exporter": "python",
   "pygments_lexer": "ipython3",
   "version": "3.8.8"
  }
 },
 "nbformat": 4,
 "nbformat_minor": 5
}
